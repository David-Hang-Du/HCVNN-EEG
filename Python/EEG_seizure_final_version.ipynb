{
 "cells": [
  {
   "cell_type": "code",
   "execution_count": null,
   "metadata": {
    "colab": {
     "base_uri": "https://localhost:8080/"
    },
    "executionInfo": {
     "elapsed": 27230,
     "status": "ok",
     "timestamp": 1617376999462,
     "user": {
      "displayName": "四百德儿曼",
      "photoUrl": "",
      "userId": "08224812288588487957"
     },
     "user_tz": 240
    },
    "id": "6hO0wm7_LnDS",
    "outputId": "6b32ad52-8c7c-4707-dbd8-1caf41d2cd2a"
   },
   "outputs": [],
   "source": [
    "import tensorflow as tf\n",
    "import numpy as np\n",
    "import matplotlib.pyplot as plt\n",
    "import scipy.io\n",
    "import time\n",
    "import progressbar\n",
    "from sklearn.model_selection import train_test_split,KFold\n",
    "from all_function_class_for_real_complex_final_bias import convolution\n",
    "from all_function_class_for_real_complex_final_bias import flatten, max_pool_real, max_pool_complex, relu_real, cartReLu, dense\n",
    "from all_function_class_for_real_complex_final_bias import layer_init_real, layer_init_complex\n",
    "from all_function_class_for_real_complex_final_bias import train, test, max_pool_real_new\n",
    "drive.mount('/content/drive')\n",
    "tf.executing_eagerly()\n",
    "tf.config.set_soft_device_placement(True)\n",
    "\n",
    "from tensorflow.keras.mixed_precision import experimental as mixed_precision\n",
    "policy = mixed_precision.Policy('mixed_float16')\n",
    "mixed_precision.set_policy(policy)"
   ]
  },
  {
   "cell_type": "code",
   "execution_count": null,
   "metadata": {
    "executionInfo": {
     "elapsed": 31336,
     "status": "ok",
     "timestamp": 1617377003571,
     "user": {
      "displayName": "四百德儿曼",
      "photoUrl": "",
      "userId": "08224812288588487957"
     },
     "user_tz": 240
    },
    "id": "FexYxJzQLtd9"
   },
   "outputs": [],
   "source": [
    "# Read data\n",
    "# Please change the \"pathtodata\" in the following directory to the path you put the data into.\n",
    "data_1 = scipy.io.loadmat('/pathtodata/data_1_fft.mat')\n",
    "data_2 = scipy.io.loadmat('/pathtodata/data_2_fft.mat')\n",
    "data_3 = scipy.io.loadmat('/pathtodata/data_3_fft.mat')\n",
    "data_4 = scipy.io.loadmat('/pathtodata/data_4_fft.mat')\n",
    "data_5 = scipy.io.loadmat('/pathtodata/data_5_fft.mat')\n",
    "\n",
    "data_1_fft = data_1['data_1']\n",
    "data_2_fft = data_2['data_2']\n",
    "data_3_fft = data_3['data_3']\n",
    "data_4_fft = data_4['data_4']\n",
    "data_5_fft = data_5['data_5']\n",
    "\n",
    "del data_1\n",
    "del data_2\n",
    "del data_3\n",
    "del data_4\n",
    "del data_5\n",
    "\n",
    "X_all = np.concatenate(\n",
    "                      (\n",
    "                       tf.reshape(np.complex64(data_1_fft),[-1,1,128,1]), \n",
    "                       tf.reshape(np.complex64(data_2_fft),[-1,1,128,1]),\n",
    "                       tf.reshape(np.complex64(data_3_fft),[-1,1,128,1]), \n",
    "                       tf.reshape(np.complex64(data_4_fft),[-1,1,128,1]),\n",
    "                       tf.reshape(np.complex64(data_5_fft),[-1,1,128,1])\n",
    "                       ),\n",
    "                       axis = 0)\n",
    "\n",
    "y_all = np.uint8(np.concatenate((\n",
    "                                np.zeros(data_1_fft.shape[0]),\n",
    "                                np.ones(data_2_fft.shape[0]),\n",
    "                                2*np.ones(data_3_fft.shape[0]),\n",
    "                                3*np.ones(data_4_fft.shape[0]),\n",
    "                                4*np.ones(data_5_fft.shape[0])\n",
    "                                 )))\n",
    "\n",
    "\n",
    "del data_1_fft\n",
    "del data_2_fft\n",
    "del data_3_fft\n",
    "del data_4_fft\n",
    "del data_5_fft\n"
   ]
  },
  {
   "cell_type": "code",
   "execution_count": null,
   "metadata": {
    "executionInfo": {
     "elapsed": 31339,
     "status": "ok",
     "timestamp": 1617377003581,
     "user": {
      "displayName": "四百德儿曼",
      "photoUrl": "",
      "userId": "08224812288588487957"
     },
     "user_tz": 240
    },
    "id": "Hy3FGplZdw17"
   },
   "outputs": [],
   "source": [
    "def initialization(num_class):\n",
    "\n",
    "    # Initialization\n",
    "\n",
    "    std = 0.01\n",
    "            \n",
    "    train_vars = [layer_init_complex([1, 5, 1, 8], 1),\n",
    "                  layer_init_real([1, 5, 8, 16], std),\n",
    "                  layer_init_real([1, 5, 16, 32], std),\n",
    "                  layer_init_real([1152, 128], std),\n",
    "                  layer_init_real([128, 32], std),\n",
    "                  layer_init_real([32, num_class], std)]\n",
    "\n",
    "    vars_name = {}\n",
    "    for i in range(len(train_vars)):\n",
    "        ker_name = 'ker_{}'.format(i)\n",
    "        bias_name = 'bias_{}'.format(i)\n",
    "        vars_name[ker_name] = train_vars[i].ker\n",
    "        vars_name[bias_name] = train_vars[i].bias\n",
    "\n",
    "    return {'train_vars': train_vars, 'vars_name':vars_name}"
   ]
  },
  {
   "cell_type": "code",
   "execution_count": null,
   "metadata": {
    "executionInfo": {
     "elapsed": 31337,
     "status": "ok",
     "timestamp": 1617377003581,
     "user": {
      "displayName": "四百德儿曼",
      "photoUrl": "",
      "userId": "08224812288588487957"
     },
     "user_tz": 240
    },
    "id": "O6gdEA3QLwfO"
   },
   "outputs": [],
   "source": [
    "# Define tf_function\n",
    "@tf.function\n",
    "def layer_comb(X, Y, arguments, my_vars):\n",
    "    arg_iter = iter(range(len(arguments)))\n",
    "    with tf.GradientTape(persistent=True) as t:\n",
    "        ########################################################################\n",
    "        ind = next(arg_iter)\n",
    "        X = convolution(X, arguments[ind].ker, arguments[ind].bias, padding = 0, stride=1)\n",
    "        X = tf.math.abs(X)\n",
    "        ########################################################################\n",
    "        ind = next(arg_iter)\n",
    "        X = convolution(X, arguments[ind].ker, arguments[ind].bias, padding=0, stride=1)\n",
    "        X = relu_real(X)\n",
    "        X = max_pool_real_new(X, pool_h=1, pool_w=3, padding=0, stride=3)\n",
    "        ########################################################################\n",
    "        ind = next(arg_iter)\n",
    "        X = convolution(X, arguments[ind].ker, arguments[ind].bias, padding=0, stride=1)\n",
    "        X = relu_real(X)\n",
    "        ########################################################################\n",
    "        ind = next(arg_iter)\n",
    "        X = dense(X, arguments[ind].ker, arguments[ind].bias)\n",
    "        X = relu_real(X)\n",
    "        ########################################################################\n",
    "        ind = next(arg_iter)\n",
    "        X = dense(X, arguments[ind].ker, arguments[ind].bias)\n",
    "        X = relu_real(X)\n",
    "        ########################################################################\n",
    "        ind = next(arg_iter)\n",
    "        X = dense(X, arguments[ind].ker, arguments[ind].bias)\n",
    "\n",
    "        X_softmax = tf.nn.softmax(X)\n",
    "\n",
    "        loss = -tf.reduce_sum(Y*tf.math.log(tf.clip_by_value(X_softmax,1e-10,1.0)))/Y.shape[0]\n",
    "\n",
    "    grad = t.gradient(loss, my_vars)\n",
    "    X_label = tf.cast(tf.argmax(X_softmax, axis=1), dtype=tf.float32)\n",
    "\n",
    "    return {'loss': loss, 'grad': grad, 'X_label': X_label}"
   ]
  },
  {
   "cell_type": "code",
   "execution_count": null,
   "metadata": {
    "colab": {
     "base_uri": "https://localhost:8080/"
    },
    "id": "1rx0OJMML6X-",
    "outputId": "69ba55d3-4218-4be0-f815-3b84b5b5d36c"
   },
   "outputs": [],
   "source": [
    "# Cross Validation\n",
    "num_class = len(np.unique(y_all))\n",
    "repeat_time = 20\n",
    "acc_test = np.zeros([repeat_time, 5])\n",
    "# Try different seeds for split\n",
    "for seed in range(repeat_time):\n",
    "    kf = KFold(n_splits=5,  random_state=5, shuffle=True)\n",
    "    split_5 = list(kf.split(X_all))\n",
    "    conf_mat = np.zeros([5,5])\n",
    "    # 5-fold Cross Validation\n",
    "    for indx in range(5):\n",
    "        # print(indx)\n",
    "        # Record start time\n",
    "        start_time = time.time()\n",
    "\n",
    "        x_train = X_all[split_5[indx][0],:,:,:]\n",
    "        y_train = tf.one_hot(y_all[split_5[indx][0]], num_class)\n",
    "        x_test = X_all[split_5[indx][1],:,:,:]\n",
    "        y_test = tf.one_hot(y_all[split_5[indx][1]], num_class)\n",
    "\n",
    "        # Parameters initialization\n",
    "        para_init = initialization(num_class)\n",
    "\n",
    "        # For train set\n",
    "        train_main_result = train(layer_comb, x_train, y_train, para_init['train_vars'], \n",
    "                                  para_init['vars_name'], epoch = 50, train_batch_size=32,\n",
    "                                  decay=True, decay_rate=0.95)\n",
    "        # For test set\n",
    "        test_main_result = test(layer_comb, x_test, y_test, para_init['train_vars'], \n",
    "                                para_init['vars_name'], test_batch_size = 128)\n",
    "\n",
    "        # Show the total time consuming for one split \n",
    "        print(\"--- %s seconds ---\" % (time.time() - start_time))\n",
    "\n",
    "        print(test_main_result['acc'])\n",
    "        # print(test_main_result['conf_mat'])\n",
    "        # print(test_main_result['conf_mat']/np.sum(test_main_result['conf_mat'], axis=1, keepdims=True))\n",
    "        acc_test[seed, indx] = test_main_result['acc']\n",
    "        conf_mat += test_main_result['conf_mat']\n",
    "    print(acc_test.mean(axis=1))\n",
    "    print(acc_test.std(axis=1))\n",
    "    print(conf_mat/np.sum(conf_mat, axis=1, keepdims=True))\n",
    "print(acc_test.mean())\n",
    "print(acc_test.std())"
   ]
  },
  {
   "cell_type": "code",
   "execution_count": null,
   "metadata": {
    "id": "UII-EGkjJ615"
   },
   "outputs": [],
   "source": [
    "acc_test.mean()"
   ]
  },
  {
   "cell_type": "code",
   "execution_count": null,
   "metadata": {
    "id": "XwGXqJqs6dQ5"
   },
   "outputs": [],
   "source": [
    "acc_test.std()"
   ]
  }
 ],
 "metadata": {
  "accelerator": "GPU",
  "colab": {
   "authorship_tag": "ABX9TyMmJLKZdF5s5ZwEaTFj98w2",
   "collapsed_sections": [],
   "machine_shape": "hm",
   "name": "EEG_seizure_final_version.ipynb",
   "provenance": []
  },
  "kernelspec": {
   "display_name": "Python 3",
   "language": "python",
   "name": "python3"
  },
  "language_info": {
   "codemirror_mode": {
    "name": "ipython",
    "version": 3
   },
   "file_extension": ".py",
   "mimetype": "text/x-python",
   "name": "python",
   "nbconvert_exporter": "python",
   "pygments_lexer": "ipython3",
   "version": "3.8.10"
  }
 },
 "nbformat": 4,
 "nbformat_minor": 1
}
